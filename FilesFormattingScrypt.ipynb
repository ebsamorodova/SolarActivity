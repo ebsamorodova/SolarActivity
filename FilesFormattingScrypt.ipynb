{
 "cells": [
  {
   "cell_type": "code",
   "execution_count": 20,
   "metadata": {},
   "outputs": [],
   "source": [
    "def GetFileName(city, case):\n",
    "    suf = {\"max\": \"X\", \"min\": \"N\", \"mean\": \"G\"}\n",
    "    return \"T{}_{}.txt\".format(suf[case], city)\n",
    "\n",
    "def SkipFirstLines(file):\n",
    "    cnt = 0\n",
    "    for line in file:\n",
    "        cnt += 1\n",
    "        if cnt == 19:\n",
    "            return\n",
    "\n",
    "cities = [\"Oxford\"]\n",
    "cases = {\"Bologna\": [\"max\", \"min\", \"mean\"], \n",
    "         \"Prague\": [\"max\", \"min\", \"mean\"], \n",
    "         \"Uccle\": [\"max\", \"min\"], \n",
    "         \"Milan\": [\"max\", \"min\", \"mean\"],\n",
    "         \"Jena\": [\"max\", \"min\", \"mean\"],\n",
    "         \"Oxford\": [\"max\", \"min\", \"mean\"]}\n",
    "\n",
    "for city in [\"Prague\"]:\n",
    "    for case in [\"mean\"]:\n",
    "        file_input = GetFileName(city, case)\n",
    "        file_output = file_input[:-4] + \"_formatted.txt\"\n",
    "        f_in = open(file_input, \"r\")\n",
    "        f_out = open(file_output, \"w\")\n",
    "        SkipFirstLines(f_in)        \n",
    "        for line in f_in:\n",
    "            row = line.split(\",\")\n",
    "            date, temperature = row[2], float(row[3]) / 10\n",
    "            year, month, day = int(date[:4]), int(date[4:6]), int(date[6:])\n",
    "                    \n",
    "            # если данные вообще есть\n",
    "            if int(row[4]) != 9 and (month, day) != (2, 29):\n",
    "                print(line, end=\"\", file=f_out)        \n",
    "        \n",
    "        f_in.close()\n",
    "        f_out.close()"
   ]
  },
  {
   "cell_type": "code",
   "execution_count": 17,
   "metadata": {},
   "outputs": [
    {
     "name": "stdout",
     "output_type": "stream",
     "text": [
      "PRAHA-KLEMENTINUM                        1775 2005\n",
      "JENA STERNWARTE                          1824 2020\n",
      "BOLOGNA                                  1814 2003\n",
      "RADCLIFFE METEOROLOGICAL STATION OXFORD  1815 2019\n",
      "MILAN                                    1763 2008\n",
      "UCCLE                                    1833 2011\n"
     ]
    }
   ],
   "source": [
    "file = open(\"zip/sources_tn.txt\", \"r\")\n",
    "cnt = 0\n",
    "for line in file:\n",
    "    cnt += 1\n",
    "    if cnt == 24:\n",
    "        break\n",
    "        \n",
    "for line in file:\n",
    "    start, finish = int(line[82:86]), int(line[91:95])\n",
    "    city = line[7:47]\n",
    "    if start < 1840 and finish > 2000:\n",
    "        print(city, start, finish)\n",
    "file.close()"
   ]
  },
  {
   "cell_type": "code",
   "execution_count": 16,
   "metadata": {},
   "outputs": [
    {
     "name": "stdout",
     "output_type": "stream",
     "text": [
      "STOCKHOLM                                1756 2003\n",
      "PRAHA-KLEMENTINUM                        1775 2020\n",
      "HOHENPEISSENBERG                         1781 2020\n",
      "JENA STERNWARTE                          1824 2020\n",
      "BOLOGNA                                  1814 2003\n",
      "RADCLIFFE METEOROLOGICAL STATION OXFORD  1815 2019\n",
      "MILAN                                    1763 2008\n",
      "PRAHA-KLEMENTINUM                        1775 2004\n"
     ]
    }
   ],
   "source": [
    "file = open(\"zip/sources_tg.txt\", \"r\")\n",
    "cnt = 0\n",
    "for line in file:\n",
    "    cnt += 1\n",
    "    if cnt == 24:\n",
    "        break\n",
    "        \n",
    "for line in file:\n",
    "    start, finish = int(line[82:86]), int(line[91:95])\n",
    "    city = line[7:47]\n",
    "    if start < 1840 and finish > 2000:\n",
    "        print(city, start, finish)\n",
    "file.close()"
   ]
  },
  {
   "cell_type": "code",
   "execution_count": 15,
   "metadata": {},
   "outputs": [
    {
     "name": "stdout",
     "output_type": "stream",
     "text": [
      "PRAHA-KLEMENTINUM                        1775 2005\n",
      "JENA STERNWARTE                          1824 2020\n",
      "BOLOGNA                                  1814 2003\n",
      "RADCLIFFE METEOROLOGICAL STATION OXFORD  1815 2019\n",
      "MILAN                                    1763 2008\n",
      "UCCLE                                    1833 2011\n"
     ]
    }
   ],
   "source": [
    "file = open(\"zip/sources_tx.txt\", \"r\")\n",
    "cnt = 0\n",
    "for line in file:\n",
    "    cnt += 1\n",
    "    if cnt == 24:\n",
    "        break\n",
    "        \n",
    "for line in file:\n",
    "    start, finish = int(line[82:86]), int(line[91:95])\n",
    "    city = line[7:47]\n",
    "    if start < 1840 and finish > 2000:\n",
    "        print(city, start, finish)\n",
    "file.close()"
   ]
  },
  {
   "cell_type": "code",
   "execution_count": null,
   "metadata": {},
   "outputs": [],
   "source": []
  }
 ],
 "metadata": {
  "kernelspec": {
   "display_name": "Python 3",
   "language": "python",
   "name": "python3"
  },
  "language_info": {
   "codemirror_mode": {
    "name": "ipython",
    "version": 3
   },
   "file_extension": ".py",
   "mimetype": "text/x-python",
   "name": "python",
   "nbconvert_exporter": "python",
   "pygments_lexer": "ipython3",
   "version": "3.6.10"
  }
 },
 "nbformat": 4,
 "nbformat_minor": 4
}
